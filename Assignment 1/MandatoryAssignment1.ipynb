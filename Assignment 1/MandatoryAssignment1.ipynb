{
 "cells": [
  {
   "cell_type": "markdown",
   "metadata": {},
   "source": [
    "# Mandatory Assignment 1 - \"Introduction to Python\" Spring 2020\n",
    "\n",
    "**The following assignments should be done in this Notebook, and Handed in as a .ipynp on fronter in the hand in folder.**\n",
    "\n",
    "**Choose to do the tasks you find the easiest fist and do as much as you find possible.**\n",
    "\n",
    "**You have one hour for all 3 assignments.**"
   ]
  },
  {
   "cell_type": "markdown",
   "metadata": {},
   "source": [
    "## Springer Books"
   ]
  },
  {
   "cell_type": "markdown",
   "metadata": {},
   "source": [
    "On this link you can see a list of books from the publishing house \"Springer\".\n",
    "\n",
    "https://docs.google.com/spreadsheets/d/1HzdumNltTj2SHmCv3SRdoub8SvpIEn75fa4Q23x0keU/htmlview#gid=793911758\n",
    "\n",
    "You can see the same data in [this csv file](springer.csv).\n",
    "\n",
    "\n",
    "\n",
    "In this assignment you should download all pdf files off books belonging to the \"English Package Name = Computer Science\" category."
   ]
  },
  {
   "cell_type": "code",
   "execution_count": null,
   "metadata": {},
   "outputs": [],
   "source": []
  },
  {
   "cell_type": "markdown",
   "metadata": {},
   "source": [
    "## Ceasar encryption"
   ]
  },
  {
   "cell_type": "markdown",
   "metadata": {},
   "source": [
    "In a Caesar encryption one moves all characters in a string N positions “forward” in the alphabet. So if the encryption N is 4,\n",
    "\n",
    "    'a' becomes 'e' and\n",
    "    'm' becomes 'q'.\n",
    "\n",
    "If the “forward move” exits the alphabet (like 'z' + 20) it wraps around.\n",
    "\n",
    "\n",
    "### Task:\n",
    "\n",
    "    Code a Caesar encryption algorithm.\n",
    "    Code a decryption algorithm."
   ]
  },
  {
   "cell_type": "code",
   "execution_count": 42,
   "metadata": {},
   "outputs": [],
   "source": []
  },
  {
   "cell_type": "markdown",
   "metadata": {},
   "source": [
    "### Test:\n",
    "\n",
    "Encrypt and afterwards decrypt\n",
    "\n",
    "    'thequickbrownfoxjumpsoverthelazydog', N=4.\n",
    "    'It all started 6 weeks ago. A truck, loaded with stripped gun parts got jack'd outside of Queens', N = 5\n",
    "    'Æbletærte er et lækkert alternative til rød grød med fløde', N=6\n"
   ]
  },
  {
   "cell_type": "code",
   "execution_count": null,
   "metadata": {},
   "outputs": [],
   "source": []
  },
  {
   "cell_type": "markdown",
   "metadata": {},
   "source": [
    "## Library code"
   ]
  },
  {
   "cell_type": "markdown",
   "metadata": {},
   "source": [
    "> Create the library code for this client code output. \n",
    "\n",
    "As it is now, it is not pythonic.   \n",
    "Some parts of the code would reveal that it is a Java programmer that have written the code.   \n",
    "When you create the library code you should fix these mistakes and make it pythonic.                       "
   ]
  },
  {
   "cell_type": "raw",
   "metadata": {},
   "source": [
    ">>> bar = Bar() \n",
    "Traceback (most recent call last):\n",
    "    File \"<stdin>\", line 1, in <module>\n",
    "TypeError: __init__() missing 2 required positional arguments: 'x' and 'y'\n",
    "\n",
    ">>> bar = Bar('Hello', 'World')\n",
    "Traceback (most recent call last):\n",
    "Traceback (most recent call last):\n",
    "    File \"<stdin>\", line 1, in <module>\n",
    "File \"property_client.py\", line 5, in __init__\n",
    "    self.set_x(x)\n",
    "File \"property_client.py\", line 29, in set_x\n",
    "    raise TypeError('x has to be an \"int\"')\n",
    "TypeError: x has to be an \"int\"\n",
    "\n",
    ">>> bar = Bar(12, 'There')\n",
    ">>> bar.y = 123 \n",
    ">>> bar.set_x(1024)\n",
    ">>> bar.get_x()\n",
    "1024\n",
    "\n",
    ">>> bar\n",
    "{'_Bar__x': 12, 'y': 'There'}\n",
    "\n",
    ">>> str(bar)\n",
    "'x = 12, y = There'"
   ]
  },
  {
   "cell_type": "code",
   "execution_count": null,
   "metadata": {},
   "outputs": [],
   "source": []
  }
 ],
 "metadata": {
  "kernelspec": {
   "display_name": "Python 3",
   "language": "python",
   "name": "python3"
  },
  "language_info": {
   "codemirror_mode": {
    "name": "ipython",
    "version": 3
   },
   "file_extension": ".py",
   "mimetype": "text/x-python",
   "name": "python",
   "nbconvert_exporter": "python",
   "pygments_lexer": "ipython3",
   "version": "3.7.7"
  },
  "toc": {
   "base_numbering": 1,
   "nav_menu": {},
   "number_sections": false,
   "sideBar": true,
   "skip_h1_title": true,
   "title_cell": "Table of Contents",
   "title_sidebar": "Contents",
   "toc_cell": false,
   "toc_position": {},
   "toc_section_display": true,
   "toc_window_display": false
  }
 },
 "nbformat": 4,
 "nbformat_minor": 4
}
